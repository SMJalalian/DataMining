{
 "metadata": {
  "language_info": {
   "codemirror_mode": {
    "name": "ipython",
    "version": 3
   },
   "file_extension": ".py",
   "mimetype": "text/x-python",
   "name": "python",
   "nbconvert_exporter": "python",
   "pygments_lexer": "ipython3",
   "version": "3.9.1-final"
  },
  "orig_nbformat": 2,
  "kernelspec": {
   "name": "python3",
   "display_name": "Python 3.9.1 64-bit",
   "metadata": {
    "interpreter": {
     "hash": "faddbb8b6f29add3c97d3e2fc24c03e683fde5b12ce28fc14cf0ecdd9a63a508"
    }
   }
  }
 },
 "nbformat": 4,
 "nbformat_minor": 2,
 "cells": [
  {
   "cell_type": "code",
   "execution_count": 1,
   "metadata": {},
   "outputs": [],
   "source": [
    "import pandas as pd\n",
    "from Packages.LearningModel import ReplaceClassifier "
   ]
  },
  {
   "cell_type": "code",
   "execution_count": 2,
   "metadata": {},
   "outputs": [],
   "source": [
    "allInformation =  pd.read_csv(\"Datasets/Diabetes_Diagnosis.csv\")\n",
    "allInformation.diabetes = allInformation.diabetes.apply(ReplaceClassifier)"
   ]
  },
  {
   "cell_type": "code",
   "execution_count": 3,
   "metadata": {},
   "outputs": [],
   "source": [
    "#*********************     Question 2     *************************\n",
    "# Descriptive statistics Diabetes\n",
    "statistics_Diabetes = allInformation[allInformation['diabetes'] == '1'].describe()\n",
    "statistics_Diabetes.rename(columns=lambda x: x + '_True', inplace=True)\n",
    "\n",
    "# Descriptive statistics NonDiabetes\n",
    "statistics_NonDiabetes = allInformation[allInformation['diabetes'] == '0'].describe()\n",
    "statistics_NonDiabetes.rename(columns=lambda x: x + '_False', inplace=True)"
   ]
  },
  {
   "cell_type": "code",
   "execution_count": 4,
   "metadata": {},
   "outputs": [
    {
     "output_type": "execute_result",
     "data": {
      "text/plain": [
       "       num_preg_True  glucose_conc_True  diastolic_bp_True  thickness_True  \\\n",
       "count     268.000000         268.000000         268.000000      268.000000   \n",
       "mean        4.865672         141.257463          70.824627       22.164179   \n",
       "std         3.741239          31.939622          21.491812       17.679711   \n",
       "min         0.000000           0.000000           0.000000        0.000000   \n",
       "25%         1.750000         119.000000          66.000000        0.000000   \n",
       "50%         4.000000         140.000000          74.000000       27.000000   \n",
       "75%         8.000000         167.000000          82.000000       36.000000   \n",
       "max        17.000000         199.000000         114.000000       99.000000   \n",
       "\n",
       "       insulin_True    bmi_True  diab_pred_True    age_True   skin_True  \\\n",
       "count    268.000000  268.000000      268.000000  268.000000  268.000000   \n",
       "mean     100.335821   35.142537        0.550500   37.067164    0.873269   \n",
       "std      138.689125    7.262967        0.372354   10.968254    0.696581   \n",
       "min        0.000000    0.000000        0.088000   21.000000    0.000000   \n",
       "25%        0.000000   30.800000        0.262500   28.000000    0.000000   \n",
       "50%        0.000000   34.250000        0.449000   36.000000    1.063800   \n",
       "75%      167.250000   38.775000        0.728000   44.000000    1.418400   \n",
       "max      846.000000   67.100000        2.420000   70.000000    3.900600   \n",
       "\n",
       "       num_preg_False  glucose_conc_False  diastolic_bp_False  \\\n",
       "count      500.000000            500.0000          500.000000   \n",
       "mean         3.298000            109.9800           68.184000   \n",
       "std          3.017185             26.1412           18.063075   \n",
       "min          0.000000              0.0000            0.000000   \n",
       "25%          1.000000             93.0000           62.000000   \n",
       "50%          2.000000            107.0000           70.000000   \n",
       "75%          5.000000            125.0000           78.000000   \n",
       "max         13.000000            197.0000          122.000000   \n",
       "\n",
       "       thickness_False  insulin_False   bmi_False  diab_pred_False  \\\n",
       "count       500.000000     500.000000  500.000000       500.000000   \n",
       "mean         19.664000      68.792000   30.304200         0.429734   \n",
       "std          14.889947      98.865289    7.689855         0.299085   \n",
       "min           0.000000       0.000000    0.000000         0.078000   \n",
       "25%           0.000000       0.000000   25.400000         0.229750   \n",
       "50%          21.000000      39.000000   30.050000         0.336000   \n",
       "75%          31.000000     105.000000   35.300000         0.561750   \n",
       "max          60.000000     744.000000   57.300000         2.329000   \n",
       "\n",
       "        age_False  skin_False  \n",
       "count  500.000000  500.000000  \n",
       "mean    31.190000    0.774762  \n",
       "std     11.667655    0.586664  \n",
       "min     21.000000    0.000000  \n",
       "25%     23.000000    0.000000  \n",
       "50%     27.000000    0.827400  \n",
       "75%     37.000000    1.221400  \n",
       "max     81.000000    2.364000  "
      ],
      "text/html": "<div>\n<style scoped>\n    .dataframe tbody tr th:only-of-type {\n        vertical-align: middle;\n    }\n\n    .dataframe tbody tr th {\n        vertical-align: top;\n    }\n\n    .dataframe thead th {\n        text-align: right;\n    }\n</style>\n<table border=\"1\" class=\"dataframe\">\n  <thead>\n    <tr style=\"text-align: right;\">\n      <th></th>\n      <th>num_preg_True</th>\n      <th>glucose_conc_True</th>\n      <th>diastolic_bp_True</th>\n      <th>thickness_True</th>\n      <th>insulin_True</th>\n      <th>bmi_True</th>\n      <th>diab_pred_True</th>\n      <th>age_True</th>\n      <th>skin_True</th>\n      <th>num_preg_False</th>\n      <th>glucose_conc_False</th>\n      <th>diastolic_bp_False</th>\n      <th>thickness_False</th>\n      <th>insulin_False</th>\n      <th>bmi_False</th>\n      <th>diab_pred_False</th>\n      <th>age_False</th>\n      <th>skin_False</th>\n    </tr>\n  </thead>\n  <tbody>\n    <tr>\n      <th>count</th>\n      <td>268.000000</td>\n      <td>268.000000</td>\n      <td>268.000000</td>\n      <td>268.000000</td>\n      <td>268.000000</td>\n      <td>268.000000</td>\n      <td>268.000000</td>\n      <td>268.000000</td>\n      <td>268.000000</td>\n      <td>500.000000</td>\n      <td>500.0000</td>\n      <td>500.000000</td>\n      <td>500.000000</td>\n      <td>500.000000</td>\n      <td>500.000000</td>\n      <td>500.000000</td>\n      <td>500.000000</td>\n      <td>500.000000</td>\n    </tr>\n    <tr>\n      <th>mean</th>\n      <td>4.865672</td>\n      <td>141.257463</td>\n      <td>70.824627</td>\n      <td>22.164179</td>\n      <td>100.335821</td>\n      <td>35.142537</td>\n      <td>0.550500</td>\n      <td>37.067164</td>\n      <td>0.873269</td>\n      <td>3.298000</td>\n      <td>109.9800</td>\n      <td>68.184000</td>\n      <td>19.664000</td>\n      <td>68.792000</td>\n      <td>30.304200</td>\n      <td>0.429734</td>\n      <td>31.190000</td>\n      <td>0.774762</td>\n    </tr>\n    <tr>\n      <th>std</th>\n      <td>3.741239</td>\n      <td>31.939622</td>\n      <td>21.491812</td>\n      <td>17.679711</td>\n      <td>138.689125</td>\n      <td>7.262967</td>\n      <td>0.372354</td>\n      <td>10.968254</td>\n      <td>0.696581</td>\n      <td>3.017185</td>\n      <td>26.1412</td>\n      <td>18.063075</td>\n      <td>14.889947</td>\n      <td>98.865289</td>\n      <td>7.689855</td>\n      <td>0.299085</td>\n      <td>11.667655</td>\n      <td>0.586664</td>\n    </tr>\n    <tr>\n      <th>min</th>\n      <td>0.000000</td>\n      <td>0.000000</td>\n      <td>0.000000</td>\n      <td>0.000000</td>\n      <td>0.000000</td>\n      <td>0.000000</td>\n      <td>0.088000</td>\n      <td>21.000000</td>\n      <td>0.000000</td>\n      <td>0.000000</td>\n      <td>0.0000</td>\n      <td>0.000000</td>\n      <td>0.000000</td>\n      <td>0.000000</td>\n      <td>0.000000</td>\n      <td>0.078000</td>\n      <td>21.000000</td>\n      <td>0.000000</td>\n    </tr>\n    <tr>\n      <th>25%</th>\n      <td>1.750000</td>\n      <td>119.000000</td>\n      <td>66.000000</td>\n      <td>0.000000</td>\n      <td>0.000000</td>\n      <td>30.800000</td>\n      <td>0.262500</td>\n      <td>28.000000</td>\n      <td>0.000000</td>\n      <td>1.000000</td>\n      <td>93.0000</td>\n      <td>62.000000</td>\n      <td>0.000000</td>\n      <td>0.000000</td>\n      <td>25.400000</td>\n      <td>0.229750</td>\n      <td>23.000000</td>\n      <td>0.000000</td>\n    </tr>\n    <tr>\n      <th>50%</th>\n      <td>4.000000</td>\n      <td>140.000000</td>\n      <td>74.000000</td>\n      <td>27.000000</td>\n      <td>0.000000</td>\n      <td>34.250000</td>\n      <td>0.449000</td>\n      <td>36.000000</td>\n      <td>1.063800</td>\n      <td>2.000000</td>\n      <td>107.0000</td>\n      <td>70.000000</td>\n      <td>21.000000</td>\n      <td>39.000000</td>\n      <td>30.050000</td>\n      <td>0.336000</td>\n      <td>27.000000</td>\n      <td>0.827400</td>\n    </tr>\n    <tr>\n      <th>75%</th>\n      <td>8.000000</td>\n      <td>167.000000</td>\n      <td>82.000000</td>\n      <td>36.000000</td>\n      <td>167.250000</td>\n      <td>38.775000</td>\n      <td>0.728000</td>\n      <td>44.000000</td>\n      <td>1.418400</td>\n      <td>5.000000</td>\n      <td>125.0000</td>\n      <td>78.000000</td>\n      <td>31.000000</td>\n      <td>105.000000</td>\n      <td>35.300000</td>\n      <td>0.561750</td>\n      <td>37.000000</td>\n      <td>1.221400</td>\n    </tr>\n    <tr>\n      <th>max</th>\n      <td>17.000000</td>\n      <td>199.000000</td>\n      <td>114.000000</td>\n      <td>99.000000</td>\n      <td>846.000000</td>\n      <td>67.100000</td>\n      <td>2.420000</td>\n      <td>70.000000</td>\n      <td>3.900600</td>\n      <td>13.000000</td>\n      <td>197.0000</td>\n      <td>122.000000</td>\n      <td>60.000000</td>\n      <td>744.000000</td>\n      <td>57.300000</td>\n      <td>2.329000</td>\n      <td>81.000000</td>\n      <td>2.364000</td>\n    </tr>\n  </tbody>\n</table>\n</div>"
     },
     "metadata": {},
     "execution_count": 4
    }
   ],
   "source": [
    "# Dataframe that contains statistics for both Diabetes and NonDiabetes\n",
    "statistics = pd.concat([statistics_Diabetes, statistics_NonDiabetes], axis=1)\n",
    "statistics.to_csv('Exports/Q2_Regression_Result.csv')\n",
    "statistics"
   ]
  }
 ]
}