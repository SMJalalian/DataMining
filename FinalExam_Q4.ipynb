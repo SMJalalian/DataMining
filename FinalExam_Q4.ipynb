{
 "metadata": {
  "language_info": {
   "codemirror_mode": {
    "name": "ipython",
    "version": 3
   },
   "file_extension": ".py",
   "mimetype": "text/x-python",
   "name": "python",
   "nbconvert_exporter": "python",
   "pygments_lexer": "ipython3",
   "version": "3.9.1-final"
  },
  "orig_nbformat": 2,
  "kernelspec": {
   "name": "python3",
   "display_name": "Python 3.9.1 64-bit",
   "metadata": {
    "interpreter": {
     "hash": "faddbb8b6f29add3c97d3e2fc24c03e683fde5b12ce28fc14cf0ecdd9a63a508"
    }
   }
  }
 },
 "nbformat": 4,
 "nbformat_minor": 2,
 "cells": [
  {
   "cell_type": "code",
   "execution_count": 1,
   "metadata": {},
   "outputs": [],
   "source": [
    "import pandas as pd\n",
    "from Packages.LearningModel import ReplaceClassifier "
   ]
  },
  {
   "cell_type": "code",
   "execution_count": 2,
   "metadata": {},
   "outputs": [],
   "source": [
    "#Load Dataset\n",
    "allInformation =  pd.read_csv(\"Datasets/Diabetes_Diagnosis.csv\")\n",
    "allInformation.diabetes = allInformation.diabetes.apply(ReplaceClassifier)"
   ]
  },
  {
   "cell_type": "code",
   "execution_count": 3,
   "metadata": {},
   "outputs": [
    {
     "output_type": "stream",
     "name": "stdout",
     "text": [
      "***********************************************\nSegmentation of :  num_preg\n0         (4.25, 8.5]\n1      (-0.017, 4.25]\n2         (4.25, 8.5]\n3      (-0.017, 4.25]\n4      (-0.017, 4.25]\n            ...      \n763      (8.5, 12.75]\n764    (-0.017, 4.25]\n765       (4.25, 8.5]\n766    (-0.017, 4.25]\n767    (-0.017, 4.25]\nName: num_preg, Length: 768, dtype: category\nCategories (4, interval[float64]): [(-0.017, 4.25] < (4.25, 8.5] < (8.5, 12.75] < (12.75, 17.0]]\n***********************************************\nSegmentation of :  glucose_conc\n0       (99.5, 149.25]\n1        (49.75, 99.5]\n2      (149.25, 199.0]\n3        (49.75, 99.5]\n4       (99.5, 149.25]\n            ...       \n763     (99.5, 149.25]\n764     (99.5, 149.25]\n765     (99.5, 149.25]\n766     (99.5, 149.25]\n767      (49.75, 99.5]\nName: glucose_conc, Length: 768, dtype: category\nCategories (4, interval[float64]): [(-0.199, 49.75] < (49.75, 99.5] < (99.5, 149.25] < (149.25, 199.0]]\n***********************************************\nSegmentation of :  diastolic_bp\n0      (61.0, 91.5]\n1      (61.0, 91.5]\n2      (61.0, 91.5]\n3      (61.0, 91.5]\n4      (30.5, 61.0]\n           ...     \n763    (61.0, 91.5]\n764    (61.0, 91.5]\n765    (61.0, 91.5]\n766    (30.5, 61.0]\n767    (61.0, 91.5]\nName: diastolic_bp, Length: 768, dtype: category\nCategories (4, interval[float64]): [(-0.122, 30.5] < (30.5, 61.0] < (61.0, 91.5] < (91.5, 122.0]]\n***********************************************\nSegmentation of :  thickness\n0        (24.75, 49.5]\n1        (24.75, 49.5]\n2      (-0.099, 24.75]\n3      (-0.099, 24.75]\n4        (24.75, 49.5]\n            ...       \n763      (24.75, 49.5]\n764      (24.75, 49.5]\n765    (-0.099, 24.75]\n766    (-0.099, 24.75]\n767      (24.75, 49.5]\nName: thickness, Length: 768, dtype: category\nCategories (4, interval[float64]): [(-0.099, 24.75] < (24.75, 49.5] < (49.5, 74.25] < (74.25, 99.0]]\n***********************************************\nSegmentation of :  insulin\n0      (-0.846, 211.5]\n1      (-0.846, 211.5]\n2      (-0.846, 211.5]\n3      (-0.846, 211.5]\n4      (-0.846, 211.5]\n            ...       \n763    (-0.846, 211.5]\n764    (-0.846, 211.5]\n765    (-0.846, 211.5]\n766    (-0.846, 211.5]\n767    (-0.846, 211.5]\nName: insulin, Length: 768, dtype: category\nCategories (4, interval[float64]): [(-0.846, 211.5] < (211.5, 423.0] < (423.0, 634.5] < (634.5, 846.0]]\n***********************************************\nSegmentation of :  bmi\n0      (33.55, 50.325]\n1      (16.775, 33.55]\n2      (16.775, 33.55]\n3      (16.775, 33.55]\n4      (33.55, 50.325]\n            ...       \n763    (16.775, 33.55]\n764    (33.55, 50.325]\n765    (16.775, 33.55]\n766    (16.775, 33.55]\n767    (16.775, 33.55]\nName: bmi, Length: 768, dtype: category\nCategories (4, interval[float64]): [(-0.0671, 16.775] < (16.775, 33.55] < (33.55, 50.325] < (50.325, 67.1]]\n***********************************************\nSegmentation of :  diab_pred\n0      (0.0757, 0.664]\n1      (0.0757, 0.664]\n2       (0.664, 1.249]\n3      (0.0757, 0.664]\n4        (1.834, 2.42]\n            ...       \n763    (0.0757, 0.664]\n764    (0.0757, 0.664]\n765    (0.0757, 0.664]\n766    (0.0757, 0.664]\n767    (0.0757, 0.664]\nName: diab_pred, Length: 768, dtype: category\nCategories (4, interval[float64]): [(0.0757, 0.664] < (0.664, 1.249] < (1.249, 1.834] < (1.834, 2.42]]\n***********************************************\nSegmentation of :  age\n0       (36.0, 51.0]\n1      (20.94, 36.0]\n2      (20.94, 36.0]\n3      (20.94, 36.0]\n4      (20.94, 36.0]\n           ...      \n763     (51.0, 66.0]\n764    (20.94, 36.0]\n765    (20.94, 36.0]\n766     (36.0, 51.0]\n767    (20.94, 36.0]\nName: age, Length: 768, dtype: category\nCategories (4, interval[float64]): [(20.94, 36.0] < (36.0, 51.0] < (51.0, 66.0] < (66.0, 81.0]]\n***********************************************\nSegmentation of :  skin\n0         (0.975, 1.95]\n1         (0.975, 1.95]\n2      (-0.0039, 0.975]\n3      (-0.0039, 0.975]\n4         (0.975, 1.95]\n             ...       \n763       (0.975, 1.95]\n764       (0.975, 1.95]\n765    (-0.0039, 0.975]\n766    (-0.0039, 0.975]\n767       (0.975, 1.95]\nName: skin, Length: 768, dtype: category\nCategories (4, interval[float64]): [(-0.0039, 0.975] < (0.975, 1.95] < (1.95, 2.925] < (2.925, 3.901]]\n"
     ]
    }
   ],
   "source": [
    "#Perform Segmentation for each column\n",
    "for column in allInformation:\n",
    "    if column != \"diabetes\":\n",
    "        print(\"***********************************************\")\n",
    "        print(\"Segmentation of : \",column)\n",
    "        List = allInformation[column]\n",
    "        result = pd.cut(List,4)\n",
    "        print(result)"
   ]
  }
 ]
}