{
 "metadata": {
  "language_info": {
   "codemirror_mode": {
    "name": "ipython",
    "version": 3
   },
   "file_extension": ".py",
   "mimetype": "text/x-python",
   "name": "python",
   "nbconvert_exporter": "python",
   "pygments_lexer": "ipython3",
   "version": "3.9.1-final"
  },
  "orig_nbformat": 2,
  "kernelspec": {
   "name": "python3",
   "display_name": "Python 3.9.1 64-bit",
   "metadata": {
    "interpreter": {
     "hash": "ac59ebe37160ed0dfa835113d9b8498d9f09ceb179beaac4002f036b9467c963"
    }
   }
  }
 },
 "nbformat": 4,
 "nbformat_minor": 2,
 "cells": [
  {
   "cell_type": "code",
   "execution_count": 1,
   "metadata": {},
   "outputs": [],
   "source": [
    "from Packages.Global import loadLabledData , loadRawData , EmojiInformation , Load_Hazm_Normalization\n",
    "from Packages.TFIDF import findCorrelatedTerms , generateTFIDF_Vectorizer\n",
    "from Packages.LearningModel import compareAllModels , generateMultinuminalNB , generateSVC"
   ]
  },
  {
   "cell_type": "code",
   "execution_count": null,
   "metadata": {},
   "outputs": [],
   "source": [
    "# loading data\n",
    "myDataFrame = loadLabledData(\"C:\\\\Datasets\\\\Labeled_Comments.xlsx\")\n",
    "RawComments = loadRawData(\"C:\\\\Datasets\\\\All_Comments_Min.xlsx\")"
   ]
  },
  {
   "cell_type": "code",
   "execution_count": null,
   "metadata": {},
   "outputs": [],
   "source": [
    "# Show Emoji Information\n",
    "EmojiInformation (myDataFrame)"
   ]
  },
  {
   "cell_type": "code",
   "execution_count": null,
   "metadata": {},
   "outputs": [],
   "source": [
    "# add a col to data frame\n",
    "myDataFrame['category_id'] = myDataFrame['Label'].factorize()[0]"
   ]
  },
  {
   "cell_type": "code",
   "execution_count": null,
   "metadata": {},
   "outputs": [],
   "source": [
    "# Create some dictonaries and dataframe for future use\n",
    "category_id_df = myDataFrame[['Label', 'category_id']].sort_values('category_id')\n",
    "category_to_id = dict(category_id_df.values)\n",
    "id_to_category = dict(category_id_df[['category_id', 'Label']].values)"
   ]
  },
  {
   "cell_type": "code",
   "execution_count": null,
   "metadata": {},
   "outputs": [],
   "source": [
    "normalizer , tokenizer , tokens , S_Words = Load_Hazm_Normalization()"
   ]
  },
  {
   "cell_type": "code",
   "execution_count": null,
   "metadata": {},
   "outputs": [],
   "source": [
    "# Generate TFIDF Vectorize\n",
    "tfidf = generateTFIDF_Vectorizer(False, normalizer.normalize, tokens, (1, 2), S_Words  )"
   ]
  },
  {
   "cell_type": "code",
   "execution_count": null,
   "metadata": {},
   "outputs": [],
   "source": [
    "#Transform each complaint into a vector\n",
    "comments = myDataFrame.comment\n",
    "features = tfidf.fit_transform(comments).toarray()\n",
    "labels = myDataFrame.category_id"
   ]
  },
  {
   "cell_type": "code",
   "execution_count": null,
   "metadata": {},
   "outputs": [],
   "source": [
    "#Compair All Models ( MultinomialNB, LinearSVC, RandomForestClassifier, LogisticRegression )\n",
    "compareAllModels(features,labels)"
   ]
  },
  {
   "cell_type": "code",
   "execution_count": null,
   "metadata": {},
   "outputs": [],
   "source": [
    "# Finding the three most correlated terms with each of the product categories\n",
    "findCorrelatedTerms(tfidf, features, labels, category_to_id, 3)"
   ]
  },
  {
   "cell_type": "code",
   "execution_count": null,
   "metadata": {},
   "outputs": [],
   "source": [
    "# ************************** Multinomial NB ***************************\n",
    "generateMultinuminalNB(myDataFrame)"
   ]
  },
  {
   "cell_type": "code",
   "execution_count": null,
   "metadata": {},
   "outputs": [],
   "source": [
    "# ************************** LinearSVC ***************************\n",
    "generateSVC( tfidf, myDataFrame, features, labels , True, category_id_df, id_to_category)"
   ]
  },
  {
   "cell_type": "code",
   "execution_count": null,
   "metadata": {},
   "outputs": [],
   "source": [
    "# ************************** Set Label For all Comments ***************************\n",
    "from sklearn.svm import LinearSVC\n",
    "from sklearn.model_selection import train_test_split\n",
    "import pandas as pd\n",
    "\n",
    "X_input = myDataFrame['comment'] # Collection of documents\n",
    "y_input = myDataFrame['Label'] # Target or the labels\n",
    "X_train, X_test, y_train, y_test = train_test_split(X_input, y_input, \n",
    "                                                    test_size=0.25,\n",
    "                                                    random_state = 0)\n",
    "\n",
    "fitted_vectorizer = tfidf.fit(X_train)\n",
    "tfidf_vectorizer_vectors = fitted_vectorizer.transform(X_train)\n",
    "\n",
    "SVCModel = LinearSVC().fit(tfidf_vectorizer_vectors, y_train)\n",
    "\n",
    "Output_Dic = {}\n",
    "f = open('myfile.csv', 'w',encoding='utf8')\n",
    "for index, row in RawComments.iterrows():\n",
    "    PridictedLabel = SVCModel.predict(fitted_vectorizer.transform([row.comment]))\n",
    "    Output_Dic.update({row.comment : PridictedLabel[0]})"
   ]
  }
 ]
}